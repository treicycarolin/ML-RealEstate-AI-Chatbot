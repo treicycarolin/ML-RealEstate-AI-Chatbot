{
 "cells": [
  {
   "cell_type": "code",
   "execution_count": 9,
   "id": "930c31a6-dfe3-4583-8101-c34063a27e58",
   "metadata": {},
   "outputs": [
    {
     "name": "stdout",
     "output_type": "stream",
     "text": [
      "Initial rows: 12\n",
      "After location: 2\n",
      "After property_type: 1\n",
      "After bedrooms: 1\n",
      "After bathrooms: 0\n",
      "After price: 0\n",
      "After amenity 'gym': 0\n"
     ]
    },
    {
     "data": {
      "text/plain": [
       "[]"
      ]
     },
     "execution_count": 9,
     "metadata": {},
     "output_type": "execute_result"
    }
   ],
   "source": [
    "# utils/property_search.py\n",
    "\n",
    "import pandas as pd\n",
    "\n",
    "# e.g. load your CSV once\n",
    "DF = pd.read_csv(\"data/properties.csv\")  \n",
    "\n",
    "def find_properties(ctx):\n",
    "    df = DF\n",
    "    df = df[df.location == ctx[\"location\"]]\n",
    "    df = df[df.property_type == ctx[\"property_type\"]]\n",
    "    df = df[df.bedrooms == ctx[\"bedrooms\"]]\n",
    "    if ctx[\"bathrooms\"]:\n",
    "        df = df[df.bathrooms.astype(int) == int(ctx[\"bathrooms\"])]\n",
    "    df = df[df.price <= ctx[\"price\"]]\n",
    "\n",
    "    if ctx[\"amenities\"]:\n",
    "        df['amenities'] = df['amenities'].astype(str)\n",
    "        for amen in ctx[\"amenities\"]:\n",
    "            df = df[df.amenities.str.contains(amen, case=False)]\n",
    "\n",
    "    return df.to_dict(orient=\"records\")"
   ]
  },
  {
   "cell_type": "code",
   "execution_count": null,
   "id": "391bb05f-5143-4d92-89d9-e223cf733315",
   "metadata": {},
   "outputs": [],
   "source": []
  }
 ],
 "metadata": {
  "kernelspec": {
   "display_name": "Python (tf_clean)",
   "language": "python",
   "name": "tf_clean"
  },
  "language_info": {
   "codemirror_mode": {
    "name": "ipython",
    "version": 3
   },
   "file_extension": ".py",
   "mimetype": "text/x-python",
   "name": "python",
   "nbconvert_exporter": "python",
   "pygments_lexer": "ipython3",
   "version": "3.10.16"
  }
 },
 "nbformat": 4,
 "nbformat_minor": 5
}
