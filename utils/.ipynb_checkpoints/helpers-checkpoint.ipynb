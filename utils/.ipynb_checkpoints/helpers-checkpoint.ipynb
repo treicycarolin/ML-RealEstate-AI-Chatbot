{
 "cells": [
  {
   "cell_type": "code",
   "execution_count": 8,
   "id": "ee654386-8e70-4585-b660-2069244168e5",
   "metadata": {},
   "outputs": [
    {
     "name": "stdout",
     "output_type": "stream",
     "text": [
      "looking...\n",
      "Santiago\n"
     ]
    }
   ],
   "source": [
    "import re\n",
    "import pandas as pd\n",
    "\n",
    "NUMBER_WORDS = {\n",
    "    \"one\": 1, \"two\": 2, \"three\": 3, \"four\": 4, \"five\": 5,\n",
    "    \"six\": 6, \"seven\": 7, \"eight\": 8, \"nine\": 9, \"ten\": 10\n",
    "}\n",
    "\n",
    "def get_valid_locations():\n",
    "    df = pd.read_csv(\"data/properties.csv\")\n",
    "    return set(df[\"location\"].dropna().str.strip().unique())\n",
    "\n",
    "def normalize_entities(entities: dict) -> dict:\n",
    "    norm = {}\n",
    "\n",
    "    # --- PRICE ---\n",
    "    price = entities.get(\"price\")\n",
    "    if isinstance(price, int):\n",
    "        norm[\"price\"] = price\n",
    "    elif isinstance(price, str):\n",
    "        # strip dollar/comma, then try int\n",
    "        cleaned = price.replace(\"$\", \"\").replace(\",\", \"\").strip()\n",
    "        try:\n",
    "            norm[\"price\"] = int(cleaned)\n",
    "        except ValueError:\n",
    "            norm[\"price\"] = None\n",
    "    else:\n",
    "        norm[\"price\"] = None\n",
    "\n",
    "    # --- LOCATION ---\n",
    "    loc = entities.get(\"location\")\n",
    "    norm[\"location\"] = loc.strip().title() if isinstance(loc, str) else None\n",
    "\n",
    "    # --- PROPERTY_TYPE ---\n",
    "    pt = entities.get(\"property_type\")\n",
    "    norm[\"property_type\"] = pt.strip().lower() if isinstance(pt, str) else None\n",
    "\n",
    "    # --- BEDROOMS & BATHROOMS (digit or word or hyphen-form) ---\n",
    "    def parse_number_field(val):\n",
    "        if isinstance(val, int):\n",
    "            return val\n",
    "        if isinstance(val, str):\n",
    "            # look for digits\n",
    "            m = re.search(r\"(\\d+)\", val)\n",
    "            if m:\n",
    "                return int(m.group(1))\n",
    "            # look for word\n",
    "            w = val.strip().lower()\n",
    "            if w in NUMBER_WORDS:\n",
    "                return NUMBER_WORDS[w]\n",
    "        return None\n",
    "\n",
    "    norm[\"bedrooms\"] = parse_number_field(entities.get(\"bedrooms\"))\n",
    "    norm[\"bathrooms\"] = parse_number_field(entities.get(\"bathrooms\"))\n",
    "\n",
    "    # --- AMENITIES (preserve list or comma-string) ---\n",
    "    amen = entities.get(\"amenities\") or entities.get(\"amenity\")\n",
    "    if isinstance(amen, list):\n",
    "        norm[\"amenities\"] = amen\n",
    "    elif isinstance(amen, str):\n",
    "        # split on commas\n",
    "        pieces = [x.strip().lower() for x in amen.split(\",\") if x.strip()]\n",
    "        norm[\"amenities\"] = pieces or None\n",
    "    else:\n",
    "        norm[\"amenities\"] = None\n",
    "\n",
    "    return norm\n"
   ]
  },
  {
   "cell_type": "code",
   "execution_count": null,
   "id": "7ec5ebf7-f3e3-40bb-b2d6-0402648f42a2",
   "metadata": {},
   "outputs": [],
   "source": []
  }
 ],
 "metadata": {
  "kernelspec": {
   "display_name": "Python (tf_clean)",
   "language": "python",
   "name": "tf_clean"
  },
  "language_info": {
   "codemirror_mode": {
    "name": "ipython",
    "version": 3
   },
   "file_extension": ".py",
   "mimetype": "text/x-python",
   "name": "python",
   "nbconvert_exporter": "python",
   "pygments_lexer": "ipython3",
   "version": "3.10.16"
  }
 },
 "nbformat": 4,
 "nbformat_minor": 5
}
