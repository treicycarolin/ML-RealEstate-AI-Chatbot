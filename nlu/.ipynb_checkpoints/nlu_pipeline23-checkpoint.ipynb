{
 "cells": [
  {
   "cell_type": "code",
   "execution_count": 1,
   "id": "39e2e7a9-9a89-48e6-9529-aa96a9c647db",
   "metadata": {},
   "outputs": [
    {
     "name": "stdout",
     "output_type": "stream",
     "text": [
      "User input: I want a villa in Cap Cana with 5 bedrooms and a pool for $450,000\n",
      "Entities detected:\n",
      "Final extracted entities: {'location': None, 'price': None, 'property_type': None, 'bedrooms': None, 'bathrooms': None}\n"
     ]
    },
    {
     "data": {
      "text/plain": [
       "{'location': None,\n",
       " 'price': None,\n",
       " 'property_type': None,\n",
       " 'bedrooms': None,\n",
       " 'bathrooms': None}"
      ]
     },
     "execution_count": 1,
     "metadata": {},
     "output_type": "execute_result"
    }
   ],
   "source": [
    "import spacy\n",
    "\n",
    "# Load your trained model\n",
    "# Adjust this path if you named the model folder differently\n",
    "# nlp = spacy.load(\"nlu/spacy_ner_model\")\n",
    "nlp = spacy.load(\"trained_spacy_bot\")\n",
    "\n",
    "# Entity keys you expect (based on training)\n",
    "def extract_entities(user_input):\n",
    "    print(f\"User input: {user_input}\")  # Debug: Show raw input\n",
    "\n",
    "    doc = nlp(user_input)\n",
    "    print(\"Entities detected:\")         # Debug: List of detected entities\n",
    "\n",
    "    entities = {\n",
    "        \"location\": None,\n",
    "        \"price\": None,\n",
    "        \"property_type\": None,\n",
    "        \"bedrooms\": None,\n",
    "        \"bathrooms\": None\n",
    "    }\n",
    "\n",
    "    for ent in doc.ents:\n",
    "        label = ent.label_.lower()\n",
    "        text = ent.text.strip()\n",
    "        print(f\" - {label}: {text}\")     # Debug: Each entity found\n",
    "\n",
    "        if label == \"location\":\n",
    "            entities[\"location\"] = text\n",
    "        elif label == \"price\":\n",
    "            # Remove \"$\" and \",\" to convert to int\n",
    "            try:\n",
    "                entities[\"price\"] = int(text.replace(\"$\", \"\").replace(\",\", \"\"))\n",
    "            except ValueError:\n",
    "                print(f\"Warning: Could not convert price '{text}' to int.\")\n",
    "        elif label == \"property_type\":\n",
    "            entities[\"property_type\"] = text.lower()\n",
    "        elif label == \"bedrooms\":\n",
    "            try:\n",
    "                entities[\"bedrooms\"] = int(text)\n",
    "            except ValueError:\n",
    "                print(f\"Warning: Could not convert bedrooms '{text}' to int.\")\n",
    "        elif label == \"bathrooms\":\n",
    "            try:\n",
    "                entities[\"bathrooms\"] = int(text)\n",
    "            except ValueError:\n",
    "                print(f\"Warning: Could not convert bathrooms '{text}' to int.\")\n",
    "\n",
    "    print(f\"Final extracted entities: {entities}\")  # Debug: Final output\n",
    "    return entities\n",
    "\n",
    "user_input = \"I want a villa in Cap Cana with 5 bedrooms and a pool for $450,000\"\n",
    "extract_entities(user_input)\n"
   ]
  },
  {
   "cell_type": "code",
   "execution_count": null,
   "id": "bd8343e2-7917-48c2-8389-a1a54946f583",
   "metadata": {},
   "outputs": [],
   "source": []
  }
 ],
 "metadata": {
  "kernelspec": {
   "display_name": "Python (tf_clean)",
   "language": "python",
   "name": "tf_clean"
  },
  "language_info": {
   "codemirror_mode": {
    "name": "ipython",
    "version": 3
   },
   "file_extension": ".py",
   "mimetype": "text/x-python",
   "name": "python",
   "nbconvert_exporter": "python",
   "pygments_lexer": "ipython3",
   "version": "3.10.16"
  }
 },
 "nbformat": 4,
 "nbformat_minor": 5
}
