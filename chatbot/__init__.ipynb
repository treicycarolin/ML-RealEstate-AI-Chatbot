{
 "cells": [
  {
   "cell_type": "code",
   "execution_count": null,
   "id": "fbeabf59-a414-47ce-bbf6-3f7328868f58",
   "metadata": {},
   "outputs": [],
   "source": []
  }
 ],
 "metadata": {
  "kernelspec": {
   "display_name": "",
   "name": ""
  },
  "language_info": {
   "name": ""
  }
 },
 "nbformat": 4,
 "nbformat_minor": 5
}
