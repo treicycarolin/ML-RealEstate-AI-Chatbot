{
 "cells": [
  {
   "cell_type": "code",
   "execution_count": null,
   "id": "bf308147-4b4a-4bf9-acb9-73710973b1c1",
   "metadata": {},
   "outputs": [
    {
     "name": "stdout",
     "output_type": "stream",
     "text": [
      "RealEstateBot is running! (type 'exit' to quit)\n"
     ]
    },
    {
     "name": "stdin",
     "output_type": "stream",
     "text": [
      "You:  Looking for a condo with 2 bedrooms in Punta Cana, price about $250,000 with pool and gym.\n"
     ]
    },
    {
     "name": "stdout",
     "output_type": "stream",
     "text": [
      "Current context: {'location': 'Punta Cana', 'price': 250000, 'property_type': 'condo', 'bedrooms': 2, 'bathrooms': None, 'amenities': ['pool', 'gym']}\n",
      "Normalized context: {'price': 250000, 'location': 'Punta Cana', 'property_type': 'condo', 'bedrooms': 2, 'bathrooms': None, 'amenities': ['pool', 'gym']}\n",
      "Bot: How many bathrooms do you need?\n"
     ]
    },
    {
     "name": "stdin",
     "output_type": "stream",
     "text": [
      "You:  2 bathrooms\n"
     ]
    },
    {
     "name": "stdout",
     "output_type": "stream",
     "text": [
      "Current context: {'location': 'Punta Cana', 'price': 250000, 'property_type': 'condo', 'bedrooms': 2, 'bathrooms': 2, 'amenities': ['pool', 'gym']}\n",
      "Normalized context: {'price': None, 'location': None, 'property_type': None, 'bedrooms': None, 'bathrooms': 2, 'amenities': None}\n",
      "Punta Cana\n",
      "Initial rows: 12\n",
      "After location: 2\n",
      "After property_type: 1\n",
      "After bedrooms: 1\n",
      "After bathrooms: 1\n",
      "After price: 1\n",
      "After amenity 'pool': 1\n",
      "After amenity 'gym': 1\n",
      "Bot: Here are some options I found:\n",
      "• 2-bd condo in Punta Cana for $250,000 (amenities: p, o, o, l, ,,  , g, y, m)\n"
     ]
    },
    {
     "name": "stdin",
     "output_type": "stream",
     "text": [
      "You:  Looking for a condo with 2 bedrooms in Colombia, price about $250,000 with pool and gym.\n"
     ]
    },
    {
     "name": "stdout",
     "output_type": "stream",
     "text": [
      "Current context: {'location': 'Colombia', 'price': 250000, 'property_type': 'condo', 'bedrooms': 2, 'bathrooms': None, 'amenities': ['pool', 'gym']}\n",
      "Normalized context: {'price': 250000, 'location': 'Colombia', 'property_type': 'condo', 'bedrooms': 2, 'bathrooms': None, 'amenities': ['pool', 'gym']}\n",
      "Bot: How many bathrooms do you need?\n"
     ]
    },
    {
     "name": "stdin",
     "output_type": "stream",
     "text": [
      "You:  2 bathrooms\n"
     ]
    },
    {
     "name": "stdout",
     "output_type": "stream",
     "text": [
      "Current context: {'location': 'Colombia', 'price': 250000, 'property_type': 'condo', 'bedrooms': 2, 'bathrooms': 2, 'amenities': ['pool', 'gym']}\n",
      "Normalized context: {'price': None, 'location': None, 'property_type': None, 'bedrooms': None, 'bathrooms': 2, 'amenities': None}\n",
      "Colombia\n",
      "Bot: Sorry, we currently don’t support listings in Colombia. Please choose a location in the Dominican Republic like Punta Cana or Cap Cana.\n"
     ]
    },
    {
     "name": "stdin",
     "output_type": "stream",
     "text": [
      "You:  Looking for a condo with 5 bedrooms in Punta Cana, price about $500,000 with pool and gym.\n"
     ]
    },
    {
     "name": "stdout",
     "output_type": "stream",
     "text": [
      "Current context: {'location': 'Punta Cana', 'price': 500000, 'property_type': 'condo', 'bedrooms': 5, 'bathrooms': None, 'amenities': ['pool', 'gym']}\n",
      "Normalized context: {'price': 500000, 'location': 'Punta Cana', 'property_type': 'condo', 'bedrooms': 5, 'bathrooms': None, 'amenities': ['pool', 'gym']}\n",
      "Bot: How many bathrooms do you need?\n"
     ]
    },
    {
     "name": "stdin",
     "output_type": "stream",
     "text": [
      "You:  6 bathrooms\n"
     ]
    },
    {
     "name": "stdout",
     "output_type": "stream",
     "text": [
      "Current context: {'location': 'Punta Cana', 'price': 500000, 'property_type': 'condo', 'bedrooms': 5, 'bathrooms': 6, 'amenities': ['pool', 'gym']}\n",
      "Normalized context: {'price': None, 'location': None, 'property_type': None, 'bedrooms': None, 'bathrooms': 6, 'amenities': None}\n",
      "Punta Cana\n",
      "Initial rows: 12\n",
      "After location: 2\n",
      "After property_type: 1\n",
      "After bedrooms: 0\n",
      "After bathrooms: 0\n",
      "After price: 0\n",
      "After amenity 'pool': 0\n",
      "After amenity 'gym': 0\n",
      "Bot: Sorry, I couldn't find any matching properties. Would you like to adjust your criteria?\n"
     ]
    },
    {
     "name": "stdin",
     "output_type": "stream",
     "text": [
      "You:  yes\n"
     ]
    },
    {
     "name": "stdout",
     "output_type": "stream",
     "text": [
      "Current context: {'location': None, 'price': None, 'property_type': None, 'bedrooms': None, 'bathrooms': None, 'amenities': None}\n",
      "Normalized context: {'price': None, 'location': None, 'property_type': None, 'bedrooms': None, 'bathrooms': None, 'amenities': None}\n",
      "Bot: Can you tell me which area or city you’re interested in?\n"
     ]
    },
    {
     "name": "stdin",
     "output_type": "stream",
     "text": [
      "You:  Looking for a condo with 2 bedrooms in Punta Cana, price about $250,000 with pool and gym.\n"
     ]
    },
    {
     "name": "stdout",
     "output_type": "stream",
     "text": [
      "Current context: {'location': 'Punta Cana', 'price': 250000, 'property_type': 'condo', 'bedrooms': 2, 'bathrooms': None, 'amenities': ['pool', 'gym']}\n",
      "Normalized context: {'price': 250000, 'location': 'Punta Cana', 'property_type': 'condo', 'bedrooms': 2, 'bathrooms': None, 'amenities': ['pool', 'gym']}\n",
      "Bot: How many bathrooms do you need?\n"
     ]
    },
    {
     "name": "stdin",
     "output_type": "stream",
     "text": [
      "You:  2 bathrooms\n"
     ]
    },
    {
     "name": "stdout",
     "output_type": "stream",
     "text": [
      "Current context: {'location': 'Punta Cana', 'price': 250000, 'property_type': 'condo', 'bedrooms': 2, 'bathrooms': 2, 'amenities': ['pool', 'gym']}\n",
      "Normalized context: {'price': None, 'location': None, 'property_type': None, 'bedrooms': None, 'bathrooms': 2, 'amenities': None}\n",
      "Punta Cana\n",
      "Initial rows: 12\n",
      "After location: 2\n",
      "After property_type: 1\n",
      "After bedrooms: 1\n",
      "After bathrooms: 1\n",
      "After price: 1\n",
      "After amenity 'pool': 1\n",
      "After amenity 'gym': 1\n",
      "Bot: Here are some options I found:\n",
      "• 2-bd condo in Punta Cana for $250,000 (amenities: p, o, o, l, ,,  , g, y, m)\n"
     ]
    }
   ],
   "source": [
    "# app.py\n",
    "\n",
    "from chatbot.chatter import get_chatter_response, train_chatterbot, generate_followup_prompt\n",
    "from nlu.nlu_pipeline import extract_entities\n",
    "from utils.helpers import normalize_entities\n",
    "\n",
    "# Fields we need for a property search\n",
    "REQUIRED_FIELDS = [\"location\", \"price\", \"property_type\", \"bedrooms\", \"bathrooms\", \"amenities\"]\n",
    "\n",
    "# Known values for fallback\n",
    "KNOWN_LOCATIONS = [\n",
    "    \"Punta Cana\", \"Bavaro\", \"Santo Domingo\", \"Casa de Campo\", \"Jarabacoa\",\n",
    "    \"Santiago\", \"Cap Cana\", \"La Romana\", \"Baváro\"\n",
    "]\n",
    "KNOWN_PROPERTY_TYPES = [\"house\", \"condo\", \"apartment\", \"villa\"]\n",
    "\n",
    "# Uncomment to re-train\n",
    "# train_chatterbot()\n",
    "\n",
    "print(\"RealEstateBot is running! (type 'exit' to quit)\")\n",
    "\n",
    "# Persistent context across turns\n",
    "context = {field: None for field in REQUIRED_FIELDS}\n",
    "\n",
    "while True:\n",
    "    user_input = input(\"You: \")\n",
    "    if user_input.lower() in [\"exit\", \"quit\"]:\n",
    "        print(\"Bot: Goodbye!\")\n",
    "        break\n",
    "\n",
    "    # Step 1: Extract and normalize entities\n",
    "    raw_entities = extract_entities(user_input)\n",
    "    normalized = normalize_entities(raw_entities)\n",
    "\n",
    "    # Fallback: Treat direct number input as price\n",
    "    stripped = user_input.strip().replace(\",\", \"\").lstrip(\"$\")\n",
    "    if stripped.isdigit() and normalized.get(\"price\") is None:\n",
    "        normalized[\"price\"] = int(stripped)\n",
    "\n",
    "    # Fallback: Location only\n",
    "    if normalized.get(\"location\") is None:\n",
    "        candidate_loc = user_input.strip().title()\n",
    "        if candidate_loc in KNOWN_LOCATIONS:\n",
    "            normalized[\"location\"] = candidate_loc\n",
    "\n",
    "    # Fallback: Property type only\n",
    "    if normalized.get(\"property_type\") is None:\n",
    "        candidate_pt = user_input.strip().lower()\n",
    "        if candidate_pt in KNOWN_PROPERTY_TYPES:\n",
    "            normalized[\"property_type\"] = candidate_pt\n",
    "\n",
    "    # Update context\n",
    "    for key, value in normalized.items():\n",
    "        if value is not None:\n",
    "            context[key] = value\n",
    "\n",
    "    # Debug: show current state\n",
    "    print(f\"Current context: {context}\")\n",
    "\n",
    "    # Check if we need to ask for more info or perform search\n",
    "    missing = [field for field, val in context.items() if val is None]\n",
    "\n",
    "    # Either prompt or perform the search + show results\n",
    "    followup = generate_followup_prompt(normalized, full_context=context)\n",
    "    print(f\"Bot: {followup}\")\n",
    "\n",
    "    # If we completed a search (i.e., nothing is missing), reset for next query\n",
    "    if not missing:\n",
    "        context = {field: None for field in REQUIRED_FIELDS}\n"
   ]
  },
  {
   "cell_type": "code",
   "execution_count": null,
   "id": "6e8c1ae6-36df-4ce6-943e-686eaa948a81",
   "metadata": {},
   "outputs": [],
   "source": []
  }
 ],
 "metadata": {
  "kernelspec": {
   "display_name": "Python (tf_clean)",
   "language": "python",
   "name": "tf_clean"
  },
  "language_info": {
   "codemirror_mode": {
    "name": "ipython",
    "version": 3
   },
   "file_extension": ".py",
   "mimetype": "text/x-python",
   "name": "python",
   "nbconvert_exporter": "python",
   "pygments_lexer": "ipython3",
   "version": "3.10.16"
  }
 },
 "nbformat": 4,
 "nbformat_minor": 5
}
